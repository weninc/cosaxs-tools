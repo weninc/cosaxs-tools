{
 "cells": [
  {
   "cell_type": "code",
   "execution_count": 3,
   "metadata": {},
   "outputs": [
    {
     "name": "stderr",
     "output_type": "stream",
     "text": [
      "WARNING:hdf5plugin:bshuf filter already loaded, skip it.\n"
     ]
    },
    {
     "name": "stdout",
     "output_type": "stream",
     "text": [
      "Integrating file: scan-4909_eiger.h5\n",
      "Output file: /data/visitors/cosaxs/20200740/2021111812/process/azint/scan-4909_eiger_integrated.h5\n"
     ]
    },
    {
     "data": {
      "application/vnd.jupyter.widget-view+json": {
       "model_id": "1297e31fca874118b407e747780e5467",
       "version_major": 2,
       "version_minor": 0
      },
      "text/plain": [
       "IntProgress(value=0, max=651)"
      ]
     },
     "metadata": {},
     "output_type": "display_data"
    }
   ],
   "source": [
    "import sys\n",
    "sys.path.insert(0, '/data/visitors/cosaxs/sw/cosaxs-tools')\n",
    "from integrate import integrate_file\n",
    "\n",
    "dset_name = '/entry/instrument/eiger/data'\n",
    "config = {'poni_file': '/data/visitors/cosaxs/20200740/2021111812/raw/agbh_2316.poni',\n",
    "          'mask': '/data/visitors/cosaxs/20200740/2021111812/raw/water_4849-mask.edf',\n",
    "          'radial_bins': 1000,\n",
    "          'azimuth_bins': None,\n",
    "          'unit': 'q',\n",
    "          'n_splitting': 1,\n",
    "          'error_model': None,\n",
    "          'polarization_factor': None,\n",
    "          'pixel_size': 75e-6,\n",
    "          'shape' : (2162, 2068)}\n",
    "\n",
    "\n",
    "fname = '/data/visitors/cosaxs/20200740/2021111812/raw/scan-4909_eiger.h5'\n",
    "integrate_file(fname, dset_name, config)"
   ]
  }
 ],
 "metadata": {
  "kernelspec": {
   "display_name": "HDF5 / Simple Analysis / GPU",
   "language": "python",
   "name": "maxiv-jhub-docker-kernel-hdf5"
  },
  "language_info": {
   "codemirror_mode": {
    "name": "ipython",
    "version": 3
   },
   "file_extension": ".py",
   "mimetype": "text/x-python",
   "name": "python",
   "nbconvert_exporter": "python",
   "pygments_lexer": "ipython3",
   "version": "3.9.7"
  }
 },
 "nbformat": 4,
 "nbformat_minor": 4
}
