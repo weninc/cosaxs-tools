{
 "cells": [
  {
   "cell_type": "code",
   "execution_count": 2,
   "id": "2768c242-097c-44f0-a99e-bb29a6128b8d",
   "metadata": {},
   "outputs": [],
   "source": [
    "%matplotlib widget\n",
    "import os\n",
    "import sys\n",
    "sys.path.insert(0, '/data/visitors/cosaxs/sw/cosaxs-tools')\n",
    "import h5py\n",
    "import numpy as np\n",
    "import matplotlib as mpl\n",
    "import matplotlib.pyplot as plt\n",
    "from ipywidgets import interact\n",
    "from cormap import make_cormap\n",
    "from multiprocessing import Pool\n",
    "from scipy.signal import argrelmax\n",
    "\n",
    "\n",
    "def load_data(fname):\n",
    "    data = {}\n",
    "    with h5py.File(fname, 'r') as fh:\n",
    "        data['q'] = fh['q'][:]\n",
    "        data['I'] = fh['I'][:]\n",
    "        data['sigma'] = fh['sigma'][:]\n",
    "    master = fname.replace('process/azint', 'raw')\n",
    "    #master = master.replace('_eiger_integrated', '')\n",
    "    master = master.replace('_eiger', '')\n",
    "    with h5py.File(master, 'r') as fh:\n",
    "        data['i_0'] = fh['/entry/measurement/i_0'][:]\n",
    "        data['i_t'] = fh['/entry/measurement/i_t'][:]\n",
    "        data['dt'] = fh['/entry/instrument/eiger/count_time'][()]\n",
    "        data['sample'] = fh['/entry/sample/description'][()]\n",
    "    return data\n",
    "\n",
    "  \n",
    "def average(data, dark_current, plot=False):\n",
    "    norm = data['i_t'] / (data['i_0'] - dark_current)\n",
    "    normed = data['I'] / norm.reshape(-1, 1) / data['dt']\n",
    "    errors = data['sigma'] / norm.reshape(-1, 1) / data['dt']\n",
    "    data['normed'] = normed\n",
    "    \n",
    "    cormap = make_cormap(normed) > 0.01\n",
    "    # find longest sequence of good shots\n",
    "    shot_count = []\n",
    "    for i in range(len(cormap)):\n",
    "        shot_count.append(np.count_nonzero(cormap[i, i:]))\n",
    "    start = np.argmax(shot_count)\n",
    "    print(f'start: {start} number of good shots: {shot_count[start]}')\n",
    "    good_shots = start + np.where(cormap[start, start:] == 1)[0]\n",
    "    I = np.mean(normed[good_shots], axis=0)\n",
    "    errors = np.sqrt(np.sum(errors[good_shots]**2, axis=0)) / len(good_shots)\n",
    "    if plot:\n",
    "        fig, ax = plt.subplots(2, 2, figsize=(9, 6))\n",
    "        fig.suptitle(r'$\\bf{Scan}:$ %d | $\\bf{Sample}:$ %s' %(scan, data['sample'].decode()))\n",
    "        ax[0, 0].plot(data['q'], I)\n",
    "        y1 = I - errors\n",
    "        y2 = I + errors\n",
    "        ax[0, 0].plot(data['q'], y1, color='grey', linestyle='--')\n",
    "        ax[0, 0].plot(data['q'], y2, color='grey', linestyle='--')\n",
    "        ax[0, 0].fill_between(data['q'], y1, y2, facecolor=\"gray\", alpha=0.3)\n",
    "        ax[0, 0].set_yscale('log')\n",
    "        #ax[0, 0].set_xscale('log')\n",
    "        ax[0, 0].set_xlabel('q [Å⁻¹]')\n",
    "        ax[0, 0].set_ylabel('I')\n",
    "        \n",
    "        ax[0, 1].imshow(cormap, cmap='RdYlGn')\n",
    "        ax[0, 1].axhline(start, color='white', linestyle='--')\n",
    "        ax[0, 1].axvline(start, color='white', linestyle='--')\n",
    "\n",
    "        ax[1, 0].plot(norm)\n",
    "        ax[1, 0].set_ylabel(r'$I_t/I_0$')\n",
    "\n",
    "        ax1 = ax[1, 1]\n",
    "        ax1.plot(data['i_t'], color='tab:blue')\n",
    "        ax1.set_ylabel(r'$I_t$', color='tab:blue')\n",
    "        ax2 = plt.twinx()\n",
    "        ax2.plot(data['i_0'], color='tab:orange')\n",
    "        ax2.set_ylabel(r'$I_0$', color='tab:orange')\n",
    "        plt.tight_layout()\n",
    "        \n",
    "    return data['q'], I, errors, cormap\n",
    "\n",
    "dark_current = 3.77e-10\n",
    "folder = '/data/visitors/cosaxs/20200740/2021111812/process/azint/'"
   ]
  },
  {
   "cell_type": "markdown",
   "id": "819ab834-b861-43c5-8373-943d77533c27",
   "metadata": {},
   "source": [
    "## Cormap"
   ]
  },
  {
   "cell_type": "code",
   "execution_count": 4,
   "id": "c179f53f-041f-4c2b-bd5c-ad4635d59334",
   "metadata": {},
   "outputs": [
    {
     "name": "stdout",
     "output_type": "stream",
     "text": [
      "start: 83 number of good shots: 514\n"
     ]
    },
    {
     "data": {
      "application/vnd.jupyter.widget-view+json": {
       "model_id": "19d7ad3a1d2046558311479b3bf62c4d",
       "version_major": 2,
       "version_minor": 0
      },
      "text/plain": [
       "Canvas(toolbar=Toolbar(toolitems=[('Home', 'Reset original view', 'home', 'home'), ('Back', 'Back to previous …"
      ]
     },
     "metadata": {},
     "output_type": "display_data"
    }
   ],
   "source": [
    "scan = 4872\n",
    "fname = os.path.join(folder, 'scan-%d_eiger.h5' %scan)\n",
    "data = load_data(fname)\n",
    "q, I, errors, cormap = average(data, dark_current, plot=True)\n",
    "#output_file = os.path.join(folder.replace('azint', 'results'), f'{scan}.dat')\n",
    "#np.savetxt(output_file, np.column_stack((q, I, errors)), header=data['sample'].decode())"
   ]
  },
  {
   "cell_type": "markdown",
   "id": "153b7d95-39bc-448c-8b67-65bb99c32ee6",
   "metadata": {},
   "source": [
    "## Buffer subtraction"
   ]
  },
  {
   "cell_type": "code",
   "execution_count": 16,
   "id": "5a4adaac-e165-4fdb-9df7-c2acde195792",
   "metadata": {
    "tags": []
   },
   "outputs": [
    {
     "data": {
      "application/vnd.jupyter.widget-view+json": {
       "model_id": "b7542581136149dca5d4234086800452",
       "version_major": 2,
       "version_minor": 0
      },
      "text/plain": [
       "Canvas(toolbar=Toolbar(toolitems=[('Home', 'Reset original view', 'home', 'home'), ('Back', 'Back to previous …"
      ]
     },
     "metadata": {},
     "output_type": "display_data"
    },
    {
     "data": {
      "text/plain": [
       "<matplotlib.legend.Legend at 0x7fe26c880ee0>"
      ]
     },
     "execution_count": 16,
     "metadata": {},
     "output_type": "execute_result"
    }
   ],
   "source": [
    "buffer_scan, sample_scan = 4878, 4879\n",
    "fname = os.path.join(folder.replace('azint', 'results'), f'{buffer_scan}.dat')\n",
    "buffer = np.loadtxt(fname, unpack=True)\n",
    "                    \n",
    "fname = os.path.join(folder.replace('azint', 'results'), f'{sample_scan}.dat')\n",
    "sample = np.loadtxt(fname, unpack=True)\n",
    "plt.figure()\n",
    "plt.title(sample_scan)\n",
    "plt.plot(sample[0], sample[1], label='Sample')\n",
    "plt.plot(buffer[0], buffer[1], label='Buffer')\n",
    "q = sample[0]\n",
    "\n",
    "a = np.sum(sample[1]*q**2)\n",
    "b = np.sum(buffer[1]*q**2)\n",
    "\n",
    "diff = sample[1] - buffer[1]\n",
    "errors = np.sqrt(buffer[2]**2 + sample[2]**2)\n",
    "y1 = diff - errors\n",
    "y2 = diff + errors\n",
    "plt.plot(q, diff, label='Difference')\n",
    "plt.plot(q, y1, color='grey', linestyle='--')\n",
    "plt.plot(q, y2, color='grey', linestyle='--')\n",
    "plt.fill_between(q, y1, y2, facecolor=\"gray\", alpha=0.3)\n",
    "plt.xscale('log')\n",
    "plt.yscale('log')\n",
    "plt.legend()"
   ]
  },
  {
   "cell_type": "markdown",
   "id": "c14dc070-1877-4e8c-bda2-10baea009ec3",
   "metadata": {},
   "source": [
    "##  Analysis of shots with Cormap "
   ]
  },
  {
   "cell_type": "code",
   "execution_count": 11,
   "id": "f82ba569-a41d-4157-ac62-0a7a6b25c31c",
   "metadata": {},
   "outputs": [
    {
     "data": {
      "application/vnd.jupyter.widget-view+json": {
       "model_id": "fcf32f38353642d499da1c3b0e456b05",
       "version_major": 2,
       "version_minor": 0
      },
      "text/plain": [
       "Canvas(toolbar=Toolbar(toolitems=[('Home', 'Reset original view', 'home', 'home'), ('Back', 'Back to previous …"
      ]
     },
     "metadata": {},
     "output_type": "display_data"
    },
    {
     "data": {
      "application/vnd.jupyter.widget-view+json": {
       "model_id": "8c12675225dd4e739b0d8cbac918f6a6",
       "version_major": 2,
       "version_minor": 0
      },
      "text/plain": [
       "Canvas(toolbar=Toolbar(toolitems=[('Home', 'Reset original view', 'home', 'home'), ('Back', 'Back to previous …"
      ]
     },
     "metadata": {},
     "output_type": "display_data"
    },
    {
     "name": "stderr",
     "output_type": "stream",
     "text": [
      "/tmp/ipykernel_568/180428736.py:13: RuntimeWarning: More than 20 figures have been opened. Figures created through the pyplot interface (`matplotlib.pyplot.figure`) are retained until explicitly closed and may consume too much memory. (To control this warning, see the rcParam `figure.max_open_warning`).\n",
      "  plt.figure()\n"
     ]
    },
    {
     "data": {
      "application/vnd.jupyter.widget-view+json": {
       "model_id": "71a510137c57449fb405a2422e4f43fe",
       "version_major": 2,
       "version_minor": 0
      },
      "text/plain": [
       "Canvas(toolbar=Toolbar(toolitems=[('Home', 'Reset original view', 'home', 'home'), ('Back', 'Back to previous …"
      ]
     },
     "metadata": {},
     "output_type": "display_data"
    },
    {
     "name": "stdout",
     "output_type": "stream",
     "text": [
      "3\n",
      "468\n",
      "303\n"
     ]
    },
    {
     "data": {
      "text/plain": [
       "<matplotlib.legend.Legend at 0x7f0e817aa070>"
      ]
     },
     "execution_count": 11,
     "metadata": {},
     "output_type": "execute_result"
    }
   ],
   "source": [
    "plt.figure()\n",
    "plt.imshow(cormap, cmap='RdYlGn')\n",
    "\n",
    "shot_count = []\n",
    "for i in range(len(cormap)):\n",
    "    shot_count.append(np.count_nonzero(cormap[i, i:]))\n",
    "plt.figure()\n",
    "plt.plot(shot_count)\n",
    "plt.xlabel('Shot index')\n",
    "plt.title('Number of good shots')\n",
    "#print(argrelmax(np.array(shot_count), order=5))\n",
    "\n",
    "plt.figure()\n",
    "for start in [0, 122, 300]:\n",
    "    good_shots = start + np.where(cormap[start, start:] == 1)[0]\n",
    "    print(len(good_shots))\n",
    "    I = np.mean(data['normed'][good_shots], axis=0)\n",
    "    plt.plot(data['q'], I, label=str(start))\n",
    "#plt.xscale('log')\n",
    "plt.yscale('log')\n",
    "plt.legend()"
   ]
  },
  {
   "cell_type": "markdown",
   "id": "7eb889fc-8d15-4c20-841d-5a545b3432bd",
   "metadata": {},
   "source": [
    "## Plot detector images"
   ]
  },
  {
   "cell_type": "code",
   "execution_count": 7,
   "id": "907f4e64-a518-485a-bebc-34aa9d8b3004",
   "metadata": {
    "tags": []
   },
   "outputs": [
    {
     "data": {
      "application/vnd.jupyter.widget-view+json": {
       "model_id": "7d596dfc8e184c7c895032396cd4a519",
       "version_major": 2,
       "version_minor": 0
      },
      "text/plain": [
       "interactive(children=(IntSlider(value=325, description='i', max=650), Output()), _dom_classes=('widget-interac…"
      ]
     },
     "metadata": {},
     "output_type": "display_data"
    }
   ],
   "source": [
    "master = fname.replace('process/azint', 'raw')\n",
    "master = master.replace('_eiger', '')\n",
    "fh = h5py.File(master, 'r')\n",
    "images = fh['/entry/instrument/eiger/data']\n",
    "\n",
    "@interact(i=(0, len(images)-1))\n",
    "def show_frame(i):\n",
    "    img = images[i]\n",
    "    img[img == 2**32-1] = 0\n",
    "    #img = img * (1 - mask)\n",
    "    vmin, vmax = np.percentile(img, [1, 99.99])\n",
    "    plt.figure()\n",
    "    plt.imshow(img, vmin=vmin, vmax=vmax)\n",
    "    plt.colorbar()"
   ]
  },
  {
   "cell_type": "code",
   "execution_count": 11,
   "id": "252b8f38-292d-4aac-acad-d9a0b0ff92f8",
   "metadata": {},
   "outputs": [
    {
     "data": {
      "application/vnd.jupyter.widget-view+json": {
       "model_id": "7cd7e5cd809c4946ac6842889b6c5e40",
       "version_major": 2,
       "version_minor": 0
      },
      "text/plain": [
       "Canvas(toolbar=Toolbar(toolitems=[('Home', 'Reset original view', 'home', 'home'), ('Back', 'Back to previous …"
      ]
     },
     "metadata": {},
     "output_type": "display_data"
    }
   ],
   "source": [
    "start = 142\n",
    "good_shots = start + np.where(cormap[start, start:] == 1)[0]\n",
    "\n",
    "c2 = []\n",
    "for i in range(len(good_shots)):\n",
    "    j = good_shots[i]\n",
    "    for k in good_shots[:i]:\n",
    "        l = len(normed[j])\n",
    "        assert(l > 0)\n",
    "        chi2 = ((normed[j] - normed[k])**2 / (sigma[j]**2 + sigma[k]**2 + 1.0e-20)).sum() / (l-1)\n",
    "        c2.append(chi2)\n",
    "c2 = np.array(c2)\n",
    "\n",
    "plt.figure()\n",
    "_ = plt.hist(c2, bins=np.linspace(0.6, 1.4, 100))"
   ]
  }
 ],
 "metadata": {
  "kernelspec": {
   "display_name": "HDF5 / Simple Analysis / GPU",
   "language": "python",
   "name": "maxiv-jhub-docker-kernel-hdf5"
  },
  "language_info": {
   "codemirror_mode": {
    "name": "ipython",
    "version": 3
   },
   "file_extension": ".py",
   "mimetype": "text/x-python",
   "name": "python",
   "nbconvert_exporter": "python",
   "pygments_lexer": "ipython3",
   "version": "3.9.7"
  }
 },
 "nbformat": 4,
 "nbformat_minor": 5
}
